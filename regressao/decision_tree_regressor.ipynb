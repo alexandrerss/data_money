{
 "cells": [
  {
   "cell_type": "markdown",
   "metadata": {},
   "source": [
    "# DECISION TREE REGRESSOR"
   ]
  },
  {
   "cell_type": "markdown",
   "metadata": {},
   "source": [
    "### Importar Bibliotecas"
   ]
  },
  {
   "cell_type": "code",
   "execution_count": 1,
   "metadata": {},
   "outputs": [],
   "source": [
    "import pandas as pd\n",
    "import numpy as np\n",
    "from sklearn import metrics as mt\n",
    "from sklearn import tree as tr\n",
    "import warnings\n",
    "\n",
    "warnings.filterwarnings(\"ignore\")"
   ]
  },
  {
   "cell_type": "markdown",
   "metadata": {},
   "source": [
    "### Importar bases de dados"
   ]
  },
  {
   "cell_type": "code",
   "execution_count": 2,
   "metadata": {},
   "outputs": [],
   "source": [
    "x_train = pd.read_csv('../datasets/regressao/X_training.csv')\n",
    "y_train = pd.read_csv('../datasets/regressao/y_training.csv')\n",
    "x_valid = pd.read_csv('../datasets/regressao/X_validation.csv')\n",
    "y_valid = pd.read_csv('../datasets/regressao/y_val.csv')\n",
    "x_test = pd.read_csv('../datasets/regressao/X_test.csv')\n",
    "y_test = pd.read_csv('../datasets/regressao/y_test.csv')"
   ]
  },
  {
   "cell_type": "markdown",
   "metadata": {},
   "source": [
    "### TREINAMENTO"
   ]
  },
  {
   "cell_type": "code",
   "execution_count": 3,
   "metadata": {},
   "outputs": [
    {
     "name": "stdout",
     "output_type": "stream",
     "text": [
      "R2: 0.992\n",
      "MSE: 3.940\n",
      "RMSE: 1.985\n",
      "MAE: 0.214\n",
      "MAPE: 0.083\n"
     ]
    }
   ],
   "source": [
    "# Treinamento\n",
    "tree_reg = tr.DecisionTreeRegressor()\n",
    "tree_reg.fit(x_train, y_train)\n",
    "\n",
    "# Previsão\n",
    "y_pred = tree_reg.predict( x_train )\n",
    "\n",
    "# R2\n",
    "r2_t = mt.r2_score(y_train, y_pred )\n",
    "print( 'R2: {:.3f}'.format( r2_t ) )\n",
    "\n",
    "# MSE\n",
    "mse_t = mt.mean_squared_error(y_train, y_pred )\n",
    "print( 'MSE: {:.3f}'.format( mse_t ) )\n",
    "\n",
    "# RMSE\n",
    "rmse_t = (np.sqrt( mse_t ))\n",
    "print( 'RMSE: {:.3f}'.format( rmse_t ) )\n",
    "\n",
    "# MAE\n",
    "mae_t = mt.mean_absolute_error(y_train, y_pred )\n",
    "print( 'MAE: {:.3f}'.format( mae_t ) )\n",
    "\n",
    "# MAPE\n",
    "mape_t = mt.mean_absolute_percentage_error(y_train, y_pred )\n",
    "print( 'MAPE: {:.3f}'.format( mape_t ) )"
   ]
  },
  {
   "cell_type": "markdown",
   "metadata": {},
   "source": [
    "### VALIDAÇÃO"
   ]
  },
  {
   "cell_type": "code",
   "execution_count": 4,
   "metadata": {},
   "outputs": [
    {
     "name": "stdout",
     "output_type": "stream",
     "text": [
      "R2: -0.293\n",
      "MSE: 617.528\n",
      "RMSE: 24.850\n",
      "MAE: 17.141\n",
      "MAPE: 6.880\n"
     ]
    }
   ],
   "source": [
    "# Treinamento\n",
    "tree_reg = tr.DecisionTreeRegressor()\n",
    "tree_reg.fit(x_train, y_train)\n",
    "\n",
    "# Previsão\n",
    "y_pred_valid = tree_reg.predict( x_valid )\n",
    "\n",
    "# R2\n",
    "r2_v = mt.r2_score(y_valid, y_pred_valid )\n",
    "print( 'R2: {:.3f}'.format( r2_v ) )\n",
    "\n",
    "# MSE\n",
    "mse_v = mt.mean_squared_error(y_valid, y_pred_valid )\n",
    "print( 'MSE: {:.3f}'.format( mse_v ) )\n",
    "\n",
    "# RMSE\n",
    "rmse_v = (np.sqrt( mse_v ))\n",
    "print( 'RMSE: {:.3f}'.format( rmse_v ) )\n",
    "\n",
    "# MAE\n",
    "mae_v = mt.mean_absolute_error(y_valid, y_pred_valid )\n",
    "print( 'MAE: {:.3f}'.format( mae_v ) )\n",
    "\n",
    "# MAPE\n",
    "mape_v = mt.mean_absolute_percentage_error(y_valid, y_pred_valid )\n",
    "print( 'MAPE: {:.3f}'.format( mape_v ) )"
   ]
  },
  {
   "cell_type": "markdown",
   "metadata": {},
   "source": [
    "### TESTE"
   ]
  },
  {
   "cell_type": "code",
   "execution_count": 5,
   "metadata": {},
   "outputs": [
    {
     "name": "stdout",
     "output_type": "stream",
     "text": [
      "R2: -0.150\n",
      "MSE: 560.107\n",
      "RMSE: 23.667\n",
      "MAE: 15.695\n",
      "MAPE: 6.091\n"
     ]
    }
   ],
   "source": [
    "# Treinamento\n",
    "tree_reg = tr.DecisionTreeRegressor(max_depth=50)\n",
    "tree_reg.fit(pd.concat([x_train, x_valid], axis=0), pd.concat([y_train, y_valid], axis=0))\n",
    "\n",
    "# Previsão\n",
    "y_pred_test = tree_reg.predict( x_test )\n",
    "\n",
    "# R2\n",
    "r2_test = mt.r2_score(y_test, y_pred_test )\n",
    "print( 'R2: {:.3f}'.format( r2_test ) )\n",
    "\n",
    "# MSE\n",
    "mse_test = mt.mean_squared_error(y_test, y_pred_test )\n",
    "print( 'MSE: {:.3f}'.format( mse_test ) )\n",
    "\n",
    "# RMSE\n",
    "rmse_test = (np.sqrt( mse_test ))\n",
    "print( 'RMSE: {:.3f}'.format( rmse_test ) )\n",
    "\n",
    "# MAE\n",
    "mae_test = mt.mean_absolute_error(y_test, y_pred_test )\n",
    "print( 'MAE: {:.3f}'.format( mae_test ) )\n",
    "\n",
    "# MAPE\n",
    "mape_test = mt.mean_absolute_percentage_error(y_test, y_pred_test )\n",
    "print( 'MAPE: {:.3f}'.format( mape_test ) )\n",
    "\n"
   ]
  },
  {
   "cell_type": "markdown",
   "metadata": {},
   "source": [
    "# SALVANDO RESULTADOS"
   ]
  },
  {
   "cell_type": "code",
   "execution_count": 6,
   "metadata": {},
   "outputs": [],
   "source": [
    "train_metrics = {\n",
    "    \"Algoritmo\": \"Decision Tree Regressor\",\n",
    "    \"R-Squared\": np.round(r2_t, 3),\n",
    "    \"MSE\": np.round(mse_t, 3),\n",
    "    \"RMSE\": np.round(rmse_t, 3),\n",
    "    \"MAE\": np.round(mae_t, 3),\n",
    "    \"MAPE\": np.round(mape_t, 3),\n",
    "}\n",
    "validation_metrics = {\n",
    "    \"Algoritmo\": \"Decision Tree Regressor\",\n",
    "    \"R-Squared\": np.round(r2_v, 3),\n",
    "    \"MSE\": np.round(mse_v, 3),\n",
    "    \"RMSE\": np.round(rmse_v, 3),\n",
    "    \"MAE\": np.round(mae_v, 3),\n",
    "    \"MAPE\": np.round(mape_v, 3),\n",
    "}\n",
    "test_metrics = {\n",
    "    \"Algoritmo\": \"Decision Tree Regressor\",\n",
    "    \"R-Squared\": np.round(r2_test, 3),\n",
    "    \"MSE\": np.round(mse_test, 3),\n",
    "    \"RMSE\": np.round(rmse_test, 3),\n",
    "    \"MAE\": np.round(mae_test, 3),\n",
    "    \"MAPE\": np.round(mape_test, 3),\n",
    "}\n",
    "\n",
    "pd.DataFrame(train_metrics, index=[0]).to_csv(\"./reg_train_metrics.csv\", mode=\"a\", header=False)\n",
    "pd.DataFrame(validation_metrics, index=[0]).to_csv(\"./reg_validation_metrics.csv\", mode=\"a\", header=False)\n",
    "pd.DataFrame(test_metrics, index=[0]).to_csv(\"./reg_test_metrics.csv\", mode=\"a\", header=False)"
   ]
  }
 ],
 "metadata": {
  "kernelspec": {
   "display_name": "Python 3",
   "language": "python",
   "name": "python3"
  },
  "language_info": {
   "codemirror_mode": {
    "name": "ipython",
    "version": 3
   },
   "file_extension": ".py",
   "mimetype": "text/x-python",
   "name": "python",
   "nbconvert_exporter": "python",
   "pygments_lexer": "ipython3",
   "version": "3.12.1"
  }
 },
 "nbformat": 4,
 "nbformat_minor": 2
}
