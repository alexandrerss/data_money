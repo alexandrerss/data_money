{
 "cells": [
  {
   "cell_type": "markdown",
   "metadata": {},
   "source": [
    "# LOGISTIC REGRESSION"
   ]
  },
  {
   "cell_type": "markdown",
   "metadata": {},
   "source": [
    "### Importar Bibliotecas"
   ]
  },
  {
   "cell_type": "code",
   "execution_count": 1,
   "metadata": {},
   "outputs": [],
   "source": [
    "import pandas as pd\n",
    "from sklearn import metrics as mt\n",
    "from sklearn.linear_model import LogisticRegression\n",
    "import numpy as np\n",
    "import warnings\n",
    "\n",
    "warnings.filterwarnings(\"ignore\")"
   ]
  },
  {
   "cell_type": "markdown",
   "metadata": {},
   "source": [
    "### Importar bases de dados"
   ]
  },
  {
   "cell_type": "code",
   "execution_count": 2,
   "metadata": {},
   "outputs": [],
   "source": [
    "x_train = pd.read_csv('../datasets/classificacao/X_training.csv')\n",
    "y_train = pd.read_csv('../datasets/classificacao/y_training.csv')\n",
    "x_valid = pd.read_csv('../datasets/classificacao/X_validation.csv')\n",
    "y_valid = pd.read_csv('../datasets/classificacao/y_validation.csv')\n",
    "x_test = pd.read_csv('../datasets/classificacao/X_test.csv')\n",
    "y_test = pd.read_csv('../datasets/classificacao/y_test.csv')"
   ]
  },
  {
   "cell_type": "markdown",
   "metadata": {},
   "source": [
    "### Treinamento"
   ]
  },
  {
   "cell_type": "code",
   "execution_count": 3,
   "metadata": {},
   "outputs": [
    {
     "name": "stdout",
     "output_type": "stream",
     "text": [
      "A acurácia é: 0.567\n",
      "A precisão é: 0.000\n",
      "O recall é: 0.000\n",
      "A F1_Score é: 0.000\n"
     ]
    }
   ],
   "source": [
    "# Treinamento\n",
    "modelo = LogisticRegression()\n",
    "modelo.fit(x_train, y_train)\n",
    "\n",
    "# Predict\n",
    "y_pred = modelo.predict(x_train)\n",
    "\n",
    "# Acurácia\n",
    "acuracia_t = mt.accuracy_score( y_train, y_pred )\n",
    "print('A acurácia é: {:.3f}'.format( acuracia_t ))\n",
    "\n",
    "# Precisão\n",
    "precision_t = mt.precision_score( y_train, y_pred ) \n",
    "print('A precisão é: {:.3f}'.format( precision_t ))\n",
    "\n",
    "# Recall\n",
    "recall_t = mt.recall_score( y_train, y_pred ) \n",
    "print('O recall é: {:.3f}'.format( recall_t ))\n",
    "\n",
    "# F1 Score\n",
    "f1_score_t = mt.f1_score( y_train, y_pred ) \n",
    "print('A F1_Score é: {:.3f}'.format( f1_score_t ))"
   ]
  },
  {
   "cell_type": "markdown",
   "metadata": {},
   "source": [
    "### VALIDAÇÃO"
   ]
  },
  {
   "cell_type": "code",
   "execution_count": 4,
   "metadata": {},
   "outputs": [
    {
     "name": "stdout",
     "output_type": "stream",
     "text": [
      "A acurácia é: 0.567\n",
      "A precisão é: 0.000\n",
      "O recall é: 0.000\n",
      "A F1_Score é: 0.000\n"
     ]
    }
   ],
   "source": [
    "# Treinamento\n",
    "modelo = LogisticRegression()\n",
    "modelo.fit(x_train, y_train)\n",
    "\n",
    "# Predict\n",
    "y_pred_valid = modelo.predict(x_valid)\n",
    "\n",
    "# Acurácia\n",
    "acuracia_v = mt.accuracy_score ( y_valid, y_pred_valid )\n",
    "print('A acurácia é: {:.3f}'.format( acuracia_v ))\n",
    "\n",
    "# Precisão\n",
    "precision_v = mt.precision_score ( y_valid, y_pred_valid )\n",
    "print('A precisão é: {:.3f}'.format( precision_v ))\n",
    "\n",
    "# Recall\n",
    "recall_v = mt.recall_score ( y_valid, y_pred_valid )\n",
    "print('O recall é: {:.3f}'.format( recall_v ))\n",
    "\n",
    "# F1 Score\n",
    "f1_score_v = mt.f1_score  ( y_valid, y_pred_valid )\n",
    "print('A F1_Score é: {:.3f}'.format( f1_score_v ))"
   ]
  },
  {
   "cell_type": "markdown",
   "metadata": {},
   "source": [
    "### TESTE"
   ]
  },
  {
   "cell_type": "code",
   "execution_count": 5,
   "metadata": {},
   "outputs": [
    {
     "name": "stdout",
     "output_type": "stream",
     "text": [
      "A acurácia é: 0.872\n",
      "A precisão é: 0.868\n",
      "O recall é: 0.835\n",
      "A F1_Score é: 0.851\n"
     ]
    }
   ],
   "source": [
    "# Treinamento\n",
    "modelo = LogisticRegression(solver='newton-cg')\n",
    "modelo.fit(pd.concat([x_train, x_valid], axis=0), pd.concat([y_train, y_valid], axis=0))\n",
    "\n",
    "# Predict\n",
    "y_pred_test = modelo.predict(x_test)\n",
    "\n",
    "# Acurácia\n",
    "acuracia_teste = mt.accuracy_score ( y_test, y_pred_test )\n",
    "print('A acurácia é: {:.3f}'.format( acuracia_teste ))\n",
    "\n",
    "# Precisão\n",
    "precision_teste = mt.precision_score ( y_test, y_pred_test )\n",
    "print('A precisão é: {:.3f}'.format( precision_teste ))\n",
    "\n",
    "# Recall\n",
    "recall_teste = mt.recall_score ( y_test, y_pred_test )\n",
    "print('O recall é: {:.3f}'.format( recall_teste ))\n",
    "\n",
    "# F1 Score\n",
    "f1_score_teste = mt.f1_score  ( y_test, y_pred_test )\n",
    "print('A F1_Score é: {:.3f}'.format( f1_score_teste ))\n"
   ]
  },
  {
   "cell_type": "markdown",
   "metadata": {},
   "source": [
    "# SALVANDO RESULTADOS"
   ]
  },
  {
   "cell_type": "code",
   "execution_count": 6,
   "metadata": {},
   "outputs": [],
   "source": [
    "train_metrics = {\n",
    "    \"Algoritmo\": \"Logistic Regression\",\n",
    "    \"Acuracia\": np.round(acuracia_t, 3),\n",
    "    \"Precisao\": np.round(precision_t, 3),\n",
    "    \"Recall\": np.round(recall_t, 3),\n",
    "    \"F1 Score\": np.round(f1_score_t, 3),\n",
    "}\n",
    "validation_metrics = {\n",
    "    \"Algoritmo\": \"Logistic Regression\",\n",
    "    \"Acuracia\": np.round(acuracia_v, 3),\n",
    "    \"Precisao\": np.round(precision_v, 3),\n",
    "    \"Recall\": np.round(recall_v, 3),\n",
    "    \"F1 Score\": np.round(f1_score_v, 3),\n",
    "}\n",
    "test_metrics = {\n",
    "    \"Algoritmo\": \"Logistic Regression\",\n",
    "    \"Acuracia\": np.round(acuracia_teste, 3),\n",
    "    \"Precisao\": np.round(precision_teste, 3),\n",
    "    \"Recall\": np.round(recall_teste, 3),\n",
    "    \"F1 Score\": np.round(f1_score_teste, 3),\n",
    "}\n",
    "\n",
    "pd.DataFrame(train_metrics, index=[0]).to_csv(\"./train_metrics.csv\", mode=\"a\", header=False)\n",
    "pd.DataFrame(validation_metrics, index=[0]).to_csv(\"./validation_metrics.csv\", mode=\"a\", header=False)\n",
    "pd.DataFrame(test_metrics, index=[0]).to_csv(\"./test_metrics.csv\", mode=\"a\", header=False)"
   ]
  }
 ],
 "metadata": {
  "kernelspec": {
   "display_name": "Python 3",
   "language": "python",
   "name": "python3"
  },
  "language_info": {
   "codemirror_mode": {
    "name": "ipython",
    "version": 3
   },
   "file_extension": ".py",
   "mimetype": "text/x-python",
   "name": "python",
   "nbconvert_exporter": "python",
   "pygments_lexer": "ipython3",
   "version": "3.12.1"
  }
 },
 "nbformat": 4,
 "nbformat_minor": 2
}
